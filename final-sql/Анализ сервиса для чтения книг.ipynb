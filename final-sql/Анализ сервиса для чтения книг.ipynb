{
 "cells": [
  {
   "cell_type": "markdown",
   "id": "34d6c9a5",
   "metadata": {},
   "source": [
    "# Анализ сервиса для чтения книг"
   ]
  },
  {
   "cell_type": "markdown",
   "id": "1baf0c2c",
   "metadata": {},
   "source": [
    "Во время коронавируса вырос спрос на хобби, которые не требуют выхода на улицу. Одним из таких хобби является чтение, поэтому большинство стартапов начали развивать приложения для чтения электронных книг. \n",
    "\n",
    "Увидев потенциал данного сегмента, компания выкупила крупный сервис для чтения книг по подписке. И теперь ей необходим анализ имеющейся базы данных с книгами, авторами, издательствами, а также с пользовательскими обзорами, чтобы сформулировать ценностное предложение для нового продукта.\n",
    "\n",
    "**Цель исследования**:<br>\n",
    "Найти преимущества сервиса, которые помогут сформулировать ценностное предложение, как для читателей, так и для монетезации.\n",
    "\n",
    "**Ход исследования**\n",
    "\n",
    "1. <a id=\"data_review\">Обзор данных</a>\n",
    "2. <a id=\"database_analysis\">Анализ базы данных</a>\n",
    "3. <a id=\"conclusion\">Общий вывод</a>\n",
    "\n",
    "**Описание данных**\n",
    "\n",
    "Таблица `books` содержит данные о книгах:\n",
    "\n",
    "- `book_id` — идентификатор книги\n",
    "- `author_id` — идентификатор автора\n",
    "- `title` — название книги\n",
    "- `num_pages` — количество страниц\n",
    "- `publication_date` — дата публикации книги\n",
    "- `publisher_id` — идентификатор издателя\n",
    "\n",
    "Таблица `authors` содержит данные об авторах:\n",
    "\n",
    "- `author_id` - идентификатор автора\n",
    "- `author` - имя автора\n",
    "\n",
    "Таблица `publishers` содержит данные об издательствах:\n",
    "\n",
    "- `publisher_id` — идентификатор издательства\n",
    "- `publisher` — название издательства\n",
    "\n",
    "Таблица `ratings` cодержит данные о пользовательских оценках книг:\n",
    "\n",
    "- `rating_id` — идентификатор оценки\n",
    "- `book_id` — идентификатор книги\n",
    "- `username` — имя пользователя, оставившего оценку\n",
    "- `rating` — оценка книги\n",
    "\n",
    "Таблица `reviews` cодержит данные о пользовательских обзорах:\n",
    "\n",
    "- `review_id` — идентификатор обзора\n",
    "- `book_id` — идентификатор книги\n",
    "- `username` — имя автора обзора\n",
    "- `text` — текст обзора\n",
    "\n",
    "Схема данных: https://pictures.s3.yandex.net/resources/scheme_1589269096.png"
   ]
  },
  {
   "cell_type": "markdown",
   "id": "962b7066",
   "metadata": {},
   "source": [
    "## Обзор данных\n",
    "<a href=\"#data_review\"></a>"
   ]
  },
  {
   "cell_type": "code",
   "execution_count": 4,
   "id": "8f6b82ed",
   "metadata": {},
   "outputs": [],
   "source": [
    "# импортируем библиотеки\n",
    "import pandas as pd\n",
    "from sqlalchemy import create_engine\n",
    "\n",
    "# устанавливаем параметры\n",
    "db_config = {'user': 'praktikum_student', # имя пользователя\n",
    "            'pwd': 'Sdf4$2;d-d30pp', # пароль\n",
    "            'host': 'rc1b-wcoijxj3yxfsf3fs.mdb.yandexcloud.net',\n",
    "            'port': 6432, # порт подключения\n",
    "            'db': 'data-analyst-final-project-db'} # название базы данных\n",
    "\n",
    "connection_string = 'postgresql://{}:{}@{}:{}/{}'.format(db_config['user'],\n",
    "                                                         db_config['pwd'],\n",
    "                                                         db_config['host'],\n",
    "                                                         db_config['port'],\n",
    "                                                         db_config['db'])\n",
    "\n",
    "# сохраняем коннектор\n",
    "engine = create_engine(connection_string, connect_args={'sslmode':'require'}) "
   ]
  },
  {
   "cell_type": "markdown",
   "id": "854c942a",
   "metadata": {},
   "source": [
    "Для начала посмотрим на первые 5 строк таблиц, чтобы лучше понять какие данные в них хранятся."
   ]
  },
  {
   "cell_type": "code",
   "execution_count": 7,
   "id": "7d6f88e6",
   "metadata": {},
   "outputs": [],
   "source": [
    "# функция выводит первые 5 строк таблицы\n",
    "def sql_reader(dataset_name):\n",
    "    \n",
    "    # Формируем sql-запрос\n",
    "    query = ''' SELECT *\n",
    "                FROM {}\n",
    "                LIMIT 5;\n",
    "            '''.format(dataset_name)\n",
    "    \n",
    "    # Выполняем запрос и отображаем результат\n",
    "    display(pd.io.sql.read_sql(query, con=engine))"
   ]
  },
  {
   "cell_type": "code",
   "execution_count": 9,
   "id": "7e1f2ac2",
   "metadata": {},
   "outputs": [
    {
     "data": {
      "text/html": [
       "<div>\n",
       "<style scoped>\n",
       "    .dataframe tbody tr th:only-of-type {\n",
       "        vertical-align: middle;\n",
       "    }\n",
       "\n",
       "    .dataframe tbody tr th {\n",
       "        vertical-align: top;\n",
       "    }\n",
       "\n",
       "    .dataframe thead th {\n",
       "        text-align: right;\n",
       "    }\n",
       "</style>\n",
       "<table border=\"1\" class=\"dataframe\">\n",
       "  <thead>\n",
       "    <tr style=\"text-align: right;\">\n",
       "      <th></th>\n",
       "      <th>book_id</th>\n",
       "      <th>author_id</th>\n",
       "      <th>title</th>\n",
       "      <th>num_pages</th>\n",
       "      <th>publication_date</th>\n",
       "      <th>publisher_id</th>\n",
       "    </tr>\n",
       "  </thead>\n",
       "  <tbody>\n",
       "    <tr>\n",
       "      <th>0</th>\n",
       "      <td>1</td>\n",
       "      <td>546</td>\n",
       "      <td>'Salem's Lot</td>\n",
       "      <td>594</td>\n",
       "      <td>2005-11-01</td>\n",
       "      <td>93</td>\n",
       "    </tr>\n",
       "    <tr>\n",
       "      <th>1</th>\n",
       "      <td>2</td>\n",
       "      <td>465</td>\n",
       "      <td>1 000 Places to See Before You Die</td>\n",
       "      <td>992</td>\n",
       "      <td>2003-05-22</td>\n",
       "      <td>336</td>\n",
       "    </tr>\n",
       "    <tr>\n",
       "      <th>2</th>\n",
       "      <td>3</td>\n",
       "      <td>407</td>\n",
       "      <td>13 Little Blue Envelopes (Little Blue Envelope...</td>\n",
       "      <td>322</td>\n",
       "      <td>2010-12-21</td>\n",
       "      <td>135</td>\n",
       "    </tr>\n",
       "    <tr>\n",
       "      <th>3</th>\n",
       "      <td>4</td>\n",
       "      <td>82</td>\n",
       "      <td>1491: New Revelations of the Americas Before C...</td>\n",
       "      <td>541</td>\n",
       "      <td>2006-10-10</td>\n",
       "      <td>309</td>\n",
       "    </tr>\n",
       "    <tr>\n",
       "      <th>4</th>\n",
       "      <td>5</td>\n",
       "      <td>125</td>\n",
       "      <td>1776</td>\n",
       "      <td>386</td>\n",
       "      <td>2006-07-04</td>\n",
       "      <td>268</td>\n",
       "    </tr>\n",
       "  </tbody>\n",
       "</table>\n",
       "</div>"
      ],
      "text/plain": [
       "   book_id  author_id                                              title  \\\n",
       "0        1        546                                       'Salem's Lot   \n",
       "1        2        465                 1 000 Places to See Before You Die   \n",
       "2        3        407  13 Little Blue Envelopes (Little Blue Envelope...   \n",
       "3        4         82  1491: New Revelations of the Americas Before C...   \n",
       "4        5        125                                               1776   \n",
       "\n",
       "   num_pages publication_date  publisher_id  \n",
       "0        594       2005-11-01            93  \n",
       "1        992       2003-05-22           336  \n",
       "2        322       2010-12-21           135  \n",
       "3        541       2006-10-10           309  \n",
       "4        386       2006-07-04           268  "
      ]
     },
     "metadata": {},
     "output_type": "display_data"
    }
   ],
   "source": [
    "# вызываем функцию для первых 5 строк таблицы\n",
    "sql_reader('books')"
   ]
  },
  {
   "cell_type": "markdown",
   "id": "ef51c08d",
   "metadata": {},
   "source": [
    "Эта таблица содержит данные о книгах. У нее есть колонка с первичным ключом - `book_id`, в которой содержатся уникальные значения, и колонки с внешними ключами - `author_id` и `publisher_id`."
   ]
  },
  {
   "cell_type": "code",
   "execution_count": 12,
   "id": "37f83478",
   "metadata": {},
   "outputs": [
    {
     "data": {
      "text/html": [
       "<div>\n",
       "<style scoped>\n",
       "    .dataframe tbody tr th:only-of-type {\n",
       "        vertical-align: middle;\n",
       "    }\n",
       "\n",
       "    .dataframe tbody tr th {\n",
       "        vertical-align: top;\n",
       "    }\n",
       "\n",
       "    .dataframe thead th {\n",
       "        text-align: right;\n",
       "    }\n",
       "</style>\n",
       "<table border=\"1\" class=\"dataframe\">\n",
       "  <thead>\n",
       "    <tr style=\"text-align: right;\">\n",
       "      <th></th>\n",
       "      <th>author_id</th>\n",
       "      <th>author</th>\n",
       "    </tr>\n",
       "  </thead>\n",
       "  <tbody>\n",
       "    <tr>\n",
       "      <th>0</th>\n",
       "      <td>1</td>\n",
       "      <td>A.S. Byatt</td>\n",
       "    </tr>\n",
       "    <tr>\n",
       "      <th>1</th>\n",
       "      <td>2</td>\n",
       "      <td>Aesop/Laura Harris/Laura Gibbs</td>\n",
       "    </tr>\n",
       "    <tr>\n",
       "      <th>2</th>\n",
       "      <td>3</td>\n",
       "      <td>Agatha Christie</td>\n",
       "    </tr>\n",
       "    <tr>\n",
       "      <th>3</th>\n",
       "      <td>4</td>\n",
       "      <td>Alan Brennert</td>\n",
       "    </tr>\n",
       "    <tr>\n",
       "      <th>4</th>\n",
       "      <td>5</td>\n",
       "      <td>Alan Moore/David   Lloyd</td>\n",
       "    </tr>\n",
       "  </tbody>\n",
       "</table>\n",
       "</div>"
      ],
      "text/plain": [
       "   author_id                          author\n",
       "0          1                      A.S. Byatt\n",
       "1          2  Aesop/Laura Harris/Laura Gibbs\n",
       "2          3                 Agatha Christie\n",
       "3          4                   Alan Brennert\n",
       "4          5        Alan Moore/David   Lloyd"
      ]
     },
     "metadata": {},
     "output_type": "display_data"
    }
   ],
   "source": [
    "# вызываем функцию для первых 5 строк таблицы\n",
    "sql_reader('authors')"
   ]
  },
  {
   "cell_type": "markdown",
   "id": "44b1b130",
   "metadata": {},
   "source": [
    "Эта таблица содержит данные об авторах. У нее есть колонка с первичным ключом - `author_id`, по которому можно связать ее с таблицей `books`."
   ]
  },
  {
   "cell_type": "code",
   "execution_count": 15,
   "id": "7aa8ad1c",
   "metadata": {},
   "outputs": [
    {
     "data": {
      "text/html": [
       "<div>\n",
       "<style scoped>\n",
       "    .dataframe tbody tr th:only-of-type {\n",
       "        vertical-align: middle;\n",
       "    }\n",
       "\n",
       "    .dataframe tbody tr th {\n",
       "        vertical-align: top;\n",
       "    }\n",
       "\n",
       "    .dataframe thead th {\n",
       "        text-align: right;\n",
       "    }\n",
       "</style>\n",
       "<table border=\"1\" class=\"dataframe\">\n",
       "  <thead>\n",
       "    <tr style=\"text-align: right;\">\n",
       "      <th></th>\n",
       "      <th>publisher_id</th>\n",
       "      <th>publisher</th>\n",
       "    </tr>\n",
       "  </thead>\n",
       "  <tbody>\n",
       "    <tr>\n",
       "      <th>0</th>\n",
       "      <td>1</td>\n",
       "      <td>Ace</td>\n",
       "    </tr>\n",
       "    <tr>\n",
       "      <th>1</th>\n",
       "      <td>2</td>\n",
       "      <td>Ace Book</td>\n",
       "    </tr>\n",
       "    <tr>\n",
       "      <th>2</th>\n",
       "      <td>3</td>\n",
       "      <td>Ace Books</td>\n",
       "    </tr>\n",
       "    <tr>\n",
       "      <th>3</th>\n",
       "      <td>4</td>\n",
       "      <td>Ace Hardcover</td>\n",
       "    </tr>\n",
       "    <tr>\n",
       "      <th>4</th>\n",
       "      <td>5</td>\n",
       "      <td>Addison Wesley Publishing Company</td>\n",
       "    </tr>\n",
       "  </tbody>\n",
       "</table>\n",
       "</div>"
      ],
      "text/plain": [
       "   publisher_id                          publisher\n",
       "0             1                                Ace\n",
       "1             2                           Ace Book\n",
       "2             3                          Ace Books\n",
       "3             4                      Ace Hardcover\n",
       "4             5  Addison Wesley Publishing Company"
      ]
     },
     "metadata": {},
     "output_type": "display_data"
    }
   ],
   "source": [
    "# вызываем функцию для первых 5 строк таблицы\n",
    "sql_reader('publishers')"
   ]
  },
  {
   "cell_type": "markdown",
   "id": "b1d92bea",
   "metadata": {},
   "source": [
    "Эта таблица содержит данные об издательствах. У нее есть колонка с первичным ключом `publisher_id`, по которому можно связать ее с таблицей `books`."
   ]
  },
  {
   "cell_type": "code",
   "execution_count": 18,
   "id": "ceb33f35",
   "metadata": {},
   "outputs": [
    {
     "data": {
      "text/html": [
       "<div>\n",
       "<style scoped>\n",
       "    .dataframe tbody tr th:only-of-type {\n",
       "        vertical-align: middle;\n",
       "    }\n",
       "\n",
       "    .dataframe tbody tr th {\n",
       "        vertical-align: top;\n",
       "    }\n",
       "\n",
       "    .dataframe thead th {\n",
       "        text-align: right;\n",
       "    }\n",
       "</style>\n",
       "<table border=\"1\" class=\"dataframe\">\n",
       "  <thead>\n",
       "    <tr style=\"text-align: right;\">\n",
       "      <th></th>\n",
       "      <th>rating_id</th>\n",
       "      <th>book_id</th>\n",
       "      <th>username</th>\n",
       "      <th>rating</th>\n",
       "    </tr>\n",
       "  </thead>\n",
       "  <tbody>\n",
       "    <tr>\n",
       "      <th>0</th>\n",
       "      <td>1</td>\n",
       "      <td>1</td>\n",
       "      <td>ryanfranco</td>\n",
       "      <td>4</td>\n",
       "    </tr>\n",
       "    <tr>\n",
       "      <th>1</th>\n",
       "      <td>2</td>\n",
       "      <td>1</td>\n",
       "      <td>grantpatricia</td>\n",
       "      <td>2</td>\n",
       "    </tr>\n",
       "    <tr>\n",
       "      <th>2</th>\n",
       "      <td>3</td>\n",
       "      <td>1</td>\n",
       "      <td>brandtandrea</td>\n",
       "      <td>5</td>\n",
       "    </tr>\n",
       "    <tr>\n",
       "      <th>3</th>\n",
       "      <td>4</td>\n",
       "      <td>2</td>\n",
       "      <td>lorichen</td>\n",
       "      <td>3</td>\n",
       "    </tr>\n",
       "    <tr>\n",
       "      <th>4</th>\n",
       "      <td>5</td>\n",
       "      <td>2</td>\n",
       "      <td>mariokeller</td>\n",
       "      <td>2</td>\n",
       "    </tr>\n",
       "  </tbody>\n",
       "</table>\n",
       "</div>"
      ],
      "text/plain": [
       "   rating_id  book_id       username  rating\n",
       "0          1        1     ryanfranco       4\n",
       "1          2        1  grantpatricia       2\n",
       "2          3        1   brandtandrea       5\n",
       "3          4        2       lorichen       3\n",
       "4          5        2    mariokeller       2"
      ]
     },
     "metadata": {},
     "output_type": "display_data"
    }
   ],
   "source": [
    "# вызываем функцию для первых 5 строк таблицы\n",
    "sql_reader('ratings')"
   ]
  },
  {
   "cell_type": "markdown",
   "id": "1cd21da2",
   "metadata": {},
   "source": [
    "Эта таблица содержит данные о пользовательских оценках книг. У нее есть колонка с первичным ключом - `rating_id` и колонка с внешним ключом - `book_id`, по которому можно связать ее с таблицей `books`."
   ]
  },
  {
   "cell_type": "code",
   "execution_count": 21,
   "id": "066e57af",
   "metadata": {},
   "outputs": [
    {
     "data": {
      "text/html": [
       "<div>\n",
       "<style scoped>\n",
       "    .dataframe tbody tr th:only-of-type {\n",
       "        vertical-align: middle;\n",
       "    }\n",
       "\n",
       "    .dataframe tbody tr th {\n",
       "        vertical-align: top;\n",
       "    }\n",
       "\n",
       "    .dataframe thead th {\n",
       "        text-align: right;\n",
       "    }\n",
       "</style>\n",
       "<table border=\"1\" class=\"dataframe\">\n",
       "  <thead>\n",
       "    <tr style=\"text-align: right;\">\n",
       "      <th></th>\n",
       "      <th>review_id</th>\n",
       "      <th>book_id</th>\n",
       "      <th>username</th>\n",
       "      <th>text</th>\n",
       "    </tr>\n",
       "  </thead>\n",
       "  <tbody>\n",
       "    <tr>\n",
       "      <th>0</th>\n",
       "      <td>1</td>\n",
       "      <td>1</td>\n",
       "      <td>brandtandrea</td>\n",
       "      <td>Mention society tell send professor analysis. ...</td>\n",
       "    </tr>\n",
       "    <tr>\n",
       "      <th>1</th>\n",
       "      <td>2</td>\n",
       "      <td>1</td>\n",
       "      <td>ryanfranco</td>\n",
       "      <td>Foot glass pretty audience hit themselves. Amo...</td>\n",
       "    </tr>\n",
       "    <tr>\n",
       "      <th>2</th>\n",
       "      <td>3</td>\n",
       "      <td>2</td>\n",
       "      <td>lorichen</td>\n",
       "      <td>Listen treat keep worry. Miss husband tax but ...</td>\n",
       "    </tr>\n",
       "    <tr>\n",
       "      <th>3</th>\n",
       "      <td>4</td>\n",
       "      <td>3</td>\n",
       "      <td>johnsonamanda</td>\n",
       "      <td>Finally month interesting blue could nature cu...</td>\n",
       "    </tr>\n",
       "    <tr>\n",
       "      <th>4</th>\n",
       "      <td>5</td>\n",
       "      <td>3</td>\n",
       "      <td>scotttamara</td>\n",
       "      <td>Nation purpose heavy give wait song will. List...</td>\n",
       "    </tr>\n",
       "  </tbody>\n",
       "</table>\n",
       "</div>"
      ],
      "text/plain": [
       "   review_id  book_id       username  \\\n",
       "0          1        1   brandtandrea   \n",
       "1          2        1     ryanfranco   \n",
       "2          3        2       lorichen   \n",
       "3          4        3  johnsonamanda   \n",
       "4          5        3    scotttamara   \n",
       "\n",
       "                                                text  \n",
       "0  Mention society tell send professor analysis. ...  \n",
       "1  Foot glass pretty audience hit themselves. Amo...  \n",
       "2  Listen treat keep worry. Miss husband tax but ...  \n",
       "3  Finally month interesting blue could nature cu...  \n",
       "4  Nation purpose heavy give wait song will. List...  "
      ]
     },
     "metadata": {},
     "output_type": "display_data"
    }
   ],
   "source": [
    "# вызываем функцию для первых 5 строк таблицы\n",
    "sql_reader('reviews')"
   ]
  },
  {
   "cell_type": "markdown",
   "id": "93a2cb02",
   "metadata": {},
   "source": [
    "Эта таблица содержит данные об обзорах книг. У нее есть колонка с первичным ключом - `review_id` и колонка с внешним ключом - `book_id`, по которому можно связать ее с таблицей `books`."
   ]
  },
  {
   "cell_type": "markdown",
   "id": "d5e1a376",
   "metadata": {},
   "source": [
    "## Анализ базы данных \n",
    "<a href=\"#database_analysis\">"
   ]
  },
  {
   "cell_type": "markdown",
   "id": "cd08106f",
   "metadata": {},
   "source": [
    "### Количество книг вышедших после 1 января 2000 года"
   ]
  },
  {
   "cell_type": "code",
   "execution_count": 26,
   "id": "ced7cb73",
   "metadata": {},
   "outputs": [
    {
     "data": {
      "text/html": [
       "<div>\n",
       "<style scoped>\n",
       "    .dataframe tbody tr th:only-of-type {\n",
       "        vertical-align: middle;\n",
       "    }\n",
       "\n",
       "    .dataframe tbody tr th {\n",
       "        vertical-align: top;\n",
       "    }\n",
       "\n",
       "    .dataframe thead th {\n",
       "        text-align: right;\n",
       "    }\n",
       "</style>\n",
       "<table border=\"1\" class=\"dataframe\">\n",
       "  <thead>\n",
       "    <tr style=\"text-align: right;\">\n",
       "      <th></th>\n",
       "      <th>book_cnt</th>\n",
       "    </tr>\n",
       "  </thead>\n",
       "  <tbody>\n",
       "    <tr>\n",
       "      <th>0</th>\n",
       "      <td>821</td>\n",
       "    </tr>\n",
       "  </tbody>\n",
       "</table>\n",
       "</div>"
      ],
      "text/plain": [
       "   book_cnt\n",
       "0       821"
      ]
     },
     "execution_count": 26,
     "metadata": {},
     "output_type": "execute_result"
    }
   ],
   "source": [
    "# Формируем sql-запрос:\n",
    "    # Берем строки из таблицы books, где год публикации книги больше или равен 2000-му \n",
    "    # Считаем получившееся количество книг по id\n",
    "\n",
    "query = ''' SELECT COUNT(book_id) AS book_cnt\n",
    "            FROM books\n",
    "            WHERE EXTRACT(YEAR FROM CAST(publication_date AS date)) >= 2000;\n",
    "        '''\n",
    "    \n",
    "# Выполняем запрос и отображаем результат\n",
    "pd.io.sql.read_sql(query, con=engine)"
   ]
  },
  {
   "cell_type": "markdown",
   "id": "50afed59",
   "metadata": {},
   "source": [
    "После 1-го января 2000 года вышла `821 книга` из 1000 книг, имеющейся в базе данных. Это значит, что большинство книг являются относительными `новинками`, либо переизданиями классики."
   ]
  },
  {
   "cell_type": "markdown",
   "id": "abf1daa3",
   "metadata": {},
   "source": [
    "### Количество обзоров и средняя оценка для всех книг"
   ]
  },
  {
   "cell_type": "code",
   "execution_count": 30,
   "id": "00397103",
   "metadata": {},
   "outputs": [
    {
     "data": {
      "text/html": [
       "<div>\n",
       "<style scoped>\n",
       "    .dataframe tbody tr th:only-of-type {\n",
       "        vertical-align: middle;\n",
       "    }\n",
       "\n",
       "    .dataframe tbody tr th {\n",
       "        vertical-align: top;\n",
       "    }\n",
       "\n",
       "    .dataframe thead th {\n",
       "        text-align: right;\n",
       "    }\n",
       "</style>\n",
       "<table border=\"1\" class=\"dataframe\">\n",
       "  <thead>\n",
       "    <tr style=\"text-align: right;\">\n",
       "      <th></th>\n",
       "      <th>book_id</th>\n",
       "      <th>title</th>\n",
       "      <th>review_cnt</th>\n",
       "      <th>rating_avg</th>\n",
       "    </tr>\n",
       "  </thead>\n",
       "  <tbody>\n",
       "    <tr>\n",
       "      <th>0</th>\n",
       "      <td>1</td>\n",
       "      <td>'Salem's Lot</td>\n",
       "      <td>2</td>\n",
       "      <td>3.7</td>\n",
       "    </tr>\n",
       "    <tr>\n",
       "      <th>1</th>\n",
       "      <td>2</td>\n",
       "      <td>1 000 Places to See Before You Die</td>\n",
       "      <td>1</td>\n",
       "      <td>2.5</td>\n",
       "    </tr>\n",
       "    <tr>\n",
       "      <th>2</th>\n",
       "      <td>3</td>\n",
       "      <td>13 Little Blue Envelopes (Little Blue Envelope...</td>\n",
       "      <td>3</td>\n",
       "      <td>4.7</td>\n",
       "    </tr>\n",
       "    <tr>\n",
       "      <th>3</th>\n",
       "      <td>4</td>\n",
       "      <td>1491: New Revelations of the Americas Before C...</td>\n",
       "      <td>2</td>\n",
       "      <td>4.5</td>\n",
       "    </tr>\n",
       "    <tr>\n",
       "      <th>4</th>\n",
       "      <td>5</td>\n",
       "      <td>1776</td>\n",
       "      <td>4</td>\n",
       "      <td>4.0</td>\n",
       "    </tr>\n",
       "  </tbody>\n",
       "</table>\n",
       "</div>"
      ],
      "text/plain": [
       "   book_id                                              title  review_cnt  \\\n",
       "0        1                                       'Salem's Lot           2   \n",
       "1        2                 1 000 Places to See Before You Die           1   \n",
       "2        3  13 Little Blue Envelopes (Little Blue Envelope...           3   \n",
       "3        4  1491: New Revelations of the Americas Before C...           2   \n",
       "4        5                                               1776           4   \n",
       "\n",
       "   rating_avg  \n",
       "0         3.7  \n",
       "1         2.5  \n",
       "2         4.7  \n",
       "3         4.5  \n",
       "4         4.0  "
      ]
     },
     "execution_count": 30,
     "metadata": {},
     "output_type": "execute_result"
    }
   ],
   "source": [
    "# Формируем sql-запрос:\n",
    "    # Присоединяем к таблице books таблицу reviews по book_id\n",
    "    # Присоединяем к таблице books таблицу ratings по book_id\n",
    "    # Группируем таблицу по book_id и названию книги, тк могут быть книги с одинаковыми названиями, но разными авторами\n",
    "    # Для каждой книги расчитываем количество уникальных обзоров на нее и \n",
    "    # среднюю оценку, округляя ее до 1 знака после запятой\n",
    "    # Выводим первые 5 строк готовой таблицы, чтобы понять, что таблица сформирована верно\n",
    "    # Для выгрузки всей таблицы, необходимо удалить строку LIMIT 5\n",
    "    \n",
    "query = ''' SELECT b.book_id, \n",
    "                   b.title, \n",
    "                   COUNT(DISTINCT rev.review_id) AS review_cnt,\n",
    "                   ROUND(AVG(rat.rating), 1) AS rating_avg\n",
    "            FROM books b\n",
    "            LEFT JOIN reviews rev ON b.book_id = rev.book_id\n",
    "            LEFT JOIN ratings rat ON b.book_id = rat.book_id\n",
    "            GROUP BY b.book_id, b.title\n",
    "            LIMIT 5;\n",
    "        '''\n",
    "    \n",
    "# Выполняем запрос и отображаем результат\n",
    "pd.io.sql.read_sql(query, con=engine)"
   ]
  },
  {
   "cell_type": "markdown",
   "id": "2fe9efb0",
   "metadata": {},
   "source": [
    "- Средний рейтиг и количество обзор сильно варьируются от книги к книге\n",
    "- Есть гипотеза о том, что популярные книги будут иметь больше всего обзоров, как 1776\n",
    "- Так же сложно судить по среднему рейтингу о книге, так как мы не знаем сколько пользователей оценило книгу. Это могло быть 1-2 человека и тогда средняя оценка может быть очень субьективна. Поэтому для сервиса нужна особая формула, которая будет учитывать не только среднюю оценку, но и количество уникальных пользователей, поставивщих оценку\n",
    "- `Средняя оценка` может помочь пользователям принять выбор о прочтении той или иной книги"
   ]
  },
  {
   "cell_type": "markdown",
   "id": "08daa62c",
   "metadata": {},
   "source": [
    "### Издательство, которое выпустило наибольшее число книг"
   ]
  },
  {
   "cell_type": "code",
   "execution_count": 34,
   "id": "0f9d283b",
   "metadata": {},
   "outputs": [
    {
     "data": {
      "text/html": [
       "<div>\n",
       "<style scoped>\n",
       "    .dataframe tbody tr th:only-of-type {\n",
       "        vertical-align: middle;\n",
       "    }\n",
       "\n",
       "    .dataframe tbody tr th {\n",
       "        vertical-align: top;\n",
       "    }\n",
       "\n",
       "    .dataframe thead th {\n",
       "        text-align: right;\n",
       "    }\n",
       "</style>\n",
       "<table border=\"1\" class=\"dataframe\">\n",
       "  <thead>\n",
       "    <tr style=\"text-align: right;\">\n",
       "      <th></th>\n",
       "      <th>publisher</th>\n",
       "      <th>book_cnt</th>\n",
       "    </tr>\n",
       "  </thead>\n",
       "  <tbody>\n",
       "    <tr>\n",
       "      <th>0</th>\n",
       "      <td>Penguin Books</td>\n",
       "      <td>42</td>\n",
       "    </tr>\n",
       "  </tbody>\n",
       "</table>\n",
       "</div>"
      ],
      "text/plain": [
       "       publisher  book_cnt\n",
       "0  Penguin Books        42"
      ]
     },
     "execution_count": 34,
     "metadata": {},
     "output_type": "execute_result"
    }
   ],
   "source": [
    "# Формируем sql-запрос:\n",
    "    # Присоединяем к таблице books таблицу publishers по publisher_id\n",
    "    # Фильруем книги по количеству страниц > 50\n",
    "    # Группируем таблицу по названию издательства\n",
    "    # Для каждого издательства расчитываем количество уникальных выпущенных книг\n",
    "    # Сортируем от большего к меньшему по количеству выпущенных книг\n",
    "    # Выводим первую строку\n",
    "    \n",
    "query = ''' SELECT p.publisher,\n",
    "                   COUNT(b.book_id) AS book_cnt\n",
    "            FROM books b\n",
    "            LEFT JOIN publishers p ON b.publisher_id = p.publisher_id\n",
    "            WHERE b.num_pages > 50\n",
    "            GROUP BY p.publisher\n",
    "            ORDER BY book_cnt DESC\n",
    "            LIMIT 1;\n",
    "        '''\n",
    "    \n",
    "# Выполняем запрос и отображаем результат\n",
    "pd.io.sql.read_sql(query, con=engine)"
   ]
  },
  {
   "cell_type": "markdown",
   "id": "7673a24f",
   "metadata": {},
   "source": [
    "- `Penguin Books` является известным издательством книг на английском языке. Их книги часто встречаются на полках книжных магазинов, что может говорить о их востребованности в печатном виде, а значит и в элекстронном тоже. Зачастую издательство переиздает классические произведения известные во всем мире.\n",
    "- 42 книги - это не так уж и много для издательства. Все издательства в базе данных имеет менее 50 книг на своем счету. Значит размер издательства для нас не имеет значения. Мы можем сотрудничать со всеми."
   ]
  },
  {
   "cell_type": "markdown",
   "id": "a771cd31",
   "metadata": {},
   "source": [
    "### Автор с самой высокой средней оценкой книг"
   ]
  },
  {
   "cell_type": "code",
   "execution_count": 38,
   "id": "89f0123a",
   "metadata": {},
   "outputs": [
    {
     "data": {
      "text/html": [
       "<div>\n",
       "<style scoped>\n",
       "    .dataframe tbody tr th:only-of-type {\n",
       "        vertical-align: middle;\n",
       "    }\n",
       "\n",
       "    .dataframe tbody tr th {\n",
       "        vertical-align: top;\n",
       "    }\n",
       "\n",
       "    .dataframe thead th {\n",
       "        text-align: right;\n",
       "    }\n",
       "</style>\n",
       "<table border=\"1\" class=\"dataframe\">\n",
       "  <thead>\n",
       "    <tr style=\"text-align: right;\">\n",
       "      <th></th>\n",
       "      <th>author</th>\n",
       "      <th>rating_cnt</th>\n",
       "      <th>rating_avg</th>\n",
       "    </tr>\n",
       "  </thead>\n",
       "  <tbody>\n",
       "    <tr>\n",
       "      <th>0</th>\n",
       "      <td>Diana Gabaldon</td>\n",
       "      <td>50</td>\n",
       "      <td>4.3</td>\n",
       "    </tr>\n",
       "  </tbody>\n",
       "</table>\n",
       "</div>"
      ],
      "text/plain": [
       "           author  rating_cnt  rating_avg\n",
       "0  Diana Gabaldon          50         4.3"
      ]
     },
     "execution_count": 38,
     "metadata": {},
     "output_type": "execute_result"
    }
   ],
   "source": [
    "# Формируем sql-запрос:\n",
    "    # Присоединяем к таблице books таблицу authors по author_id\n",
    "    # Присоединяем к таблице books таблицу ratings по book_id\n",
    "    # Группируем таблицу по названию автора\n",
    "    # Для каждого автора расчитываем количество уникальных оценок и \n",
    "    # среднюю оценку, округляя ее до 2-х знаков после запятой\n",
    "    # Фильтруем по количеству уникальных оценок >= 50\n",
    "    # Сортируем от большего к меньшему по средней оценке\n",
    "    # Выводим первую строку\n",
    "    \n",
    "query = ''' SELECT a.author, \n",
    "                   COUNT(DISTINCT rat.rating_id) AS rating_cnt,\n",
    "                   ROUND(AVG(rat.rating), 2) AS rating_avg\n",
    "            FROM books b\n",
    "            LEFT JOIN authors a ON b.author_id = a.author_id\n",
    "            LEFT JOIN ratings rat ON b.book_id = rat.book_id\n",
    "            GROUP BY a.author\n",
    "            HAVING COUNT(DISTINCT rat.rating_id) >= 50\n",
    "            ORDER BY rating_avg DESC\n",
    "            LIMIT 1;\n",
    "        '''\n",
    "    \n",
    "# Выполняем запрос и отображаем результат\n",
    "pd.io.sql.read_sql(query, con=engine)"
   ]
  },
  {
   "cell_type": "markdown",
   "id": "46ac0c9c",
   "metadata": {},
   "source": [
    "Первое место у `Дианы Гэблдон` с любовно-фантастическим романом «Чужестранка», к сожалению, впервые слышу об этом авторе. Книга имеет `экранизацию`, что говорит о том, что она популярна, поэтому у нее много оценок. \n",
    "\n",
    "Стоит обратить внимание на те, книги, что уже добились успеха и признания, а значит всегда будут востребованы среди читателей."
   ]
  },
  {
   "cell_type": "markdown",
   "id": "9f3f220a",
   "metadata": {},
   "source": [
    "### Среднее количество обзоров от активных пользователей"
   ]
  },
  {
   "cell_type": "code",
   "execution_count": 42,
   "id": "1ac1dff6",
   "metadata": {},
   "outputs": [
    {
     "data": {
      "text/html": [
       "<div>\n",
       "<style scoped>\n",
       "    .dataframe tbody tr th:only-of-type {\n",
       "        vertical-align: middle;\n",
       "    }\n",
       "\n",
       "    .dataframe tbody tr th {\n",
       "        vertical-align: top;\n",
       "    }\n",
       "\n",
       "    .dataframe thead th {\n",
       "        text-align: right;\n",
       "    }\n",
       "</style>\n",
       "<table border=\"1\" class=\"dataframe\">\n",
       "  <thead>\n",
       "    <tr style=\"text-align: right;\">\n",
       "      <th></th>\n",
       "      <th>review_avg</th>\n",
       "    </tr>\n",
       "  </thead>\n",
       "  <tbody>\n",
       "    <tr>\n",
       "      <th>0</th>\n",
       "      <td>17.6</td>\n",
       "    </tr>\n",
       "  </tbody>\n",
       "</table>\n",
       "</div>"
      ],
      "text/plain": [
       "   review_avg\n",
       "0        17.6"
      ]
     },
     "execution_count": 42,
     "metadata": {},
     "output_type": "execute_result"
    }
   ],
   "source": [
    "# Формируем sql-запрос:\n",
    "    # Создаем  временный результирующий набор данных с названием t, где\n",
    "        # Присоединяем к таблице books таблицу ratings по book_id\n",
    "        # Присоединяем к таблице books таблицу reviews по book_id\n",
    "        # Группируем таблицу по нику пользователя\n",
    "        # Для каждого пользователя расчитываем количество уникальных оценок и количество уникальных обзоров\n",
    "        # Фильтруем по количеству уникальных оценок > 50\n",
    "    # Из временной таблицы t рассчитываем среднее занчение по столбцу review_cnt и \n",
    "    # округляем до 1 знака после запятой\n",
    "    \n",
    "query = ''' WITH t AS (SELECT rev.username, \n",
    "                       COUNT(DISTINCT rat.rating_id) AS rating_cnt,\n",
    "                       COUNT(DISTINCT rev.review_id) AS review_cnt\n",
    "                       FROM books b\n",
    "                       LEFT JOIN reviews rev ON b.book_id = rev.book_id\n",
    "                       LEFT JOIN ratings rat ON b.book_id = rat.book_id\n",
    "                       GROUP BY rev.username\n",
    "                       HAVING COUNT(DISTINCT rat.rating_id) > 50)\n",
    "                       \n",
    "            SELECT ROUND(AVG(review_cnt),1) AS review_avg\n",
    "            FROM t;\n",
    "        '''\n",
    "    \n",
    "# Выполняем запрос и отображаем результат\n",
    "pd.io.sql.read_sql(query, con=engine)"
   ]
  },
  {
   "cell_type": "markdown",
   "id": "9b5cbc47",
   "metadata": {},
   "source": [
    "В среднем активные пользователи, пишут `около 17-ти обзоров` на книги. Это может быть положительной корреляцией между количеством оценок и обзоров, которая может означить то, что активные пользователи - активны во всем. Такие пользователи очень ценны, так как они будут источником бесплатной рекламой - неким сарафанным радио для сервиса."
   ]
  },
  {
   "cell_type": "markdown",
   "id": "a8c85ed5",
   "metadata": {},
   "source": [
    "## Общий вывод\n",
    "<a href=\"#conclusion\"></a>"
   ]
  },
  {
   "cell_type": "markdown",
   "id": "78fdc03a",
   "metadata": {},
   "source": [
    "После 1-го января 2000 года вышла `821 книга` из 1000 книг, имеющейся в базе данных. Это значит, что большинство книг являются относительными новинками, либо переизданиями классики.\n",
    "\n",
    "Средняя оценка и количество обзор сильно варьируются от книги к книге. Количество обзоров и оценок скорее всего связано с популярностью произведений. `Популярные книги` будут иметь `больше оценок` и `обзоров`.\n",
    "\n",
    "`Средняя оценка` книги в сервисе может помочь читателям сделать выбор, но нужно учитывать не только сами оценки, но и количество пользователей оценивших книгу, так как если таких пользователей 1 или 2, то оценка может быть крайне субъективной.\n",
    "\n",
    "Одним из самых больших издательств в базе данных является `Penguin Books` - 42 книги. Они издают книги на английском языке и часто встречаются на полках книжных магазинов, что может говорить о их востребованности в печатном виде, а значит и электронном тоже. Зачастую данное издательство переиздает классические произведения известные во всем мире.\n",
    "\n",
    "Все издательства в базе данных имеет менее 50 книг на своем счету. Значит размер издательства для нас не имеет значения. Мы можем сотрудничать со всеми.\n",
    "\n",
    "`Диана Гэблдон` имеет самую высокую среднюю оценку - `4.3`. Ее книга получила `экранизацию`, что говорит о том, что она популярна, поэтому у нее `50 оценок`. Стоит обратить внимание на те, книги, что уже добились успеха и признания, а значит всегда будут востребованы среди читателей.\n",
    "\n",
    "В среднем активные пользователи, пишут около 17-ти обзоров на книги. Это может быть положительной корреляцией между количеством оценок и обзоров, которая может означить то, что `активные пользователи - активны во всем`. Такие пользователи очень ценны, так как они будут источником бесплатной рекламой - неким сарафанным радио для сервиса.\n",
    "\n",
    "**Ценностное предложение** из всего вышесказаного должно включать, что:\n",
    "- сервис имеет в своей коллекции книг - `новинки`\n",
    "- известные `классические` произведения `на английском языке`\n",
    "- `популярные` и экранизированные книги\n",
    "- большое количество обзоров и оценок для `легкого поиска хорошей книги на вечер`\n",
    "\n",
    "Также для монетизации:\n",
    "- размещение книг на сервисе не зависит от размера издания, `сотрудничаем со всеми`\n",
    "- сервис имеет свое `активное коммьюнити`, что может быть интересно рекламодателям"
   ]
  }
 ],
 "metadata": {
  "kernelspec": {
   "display_name": "Python [conda env:base] *",
   "language": "python",
   "name": "conda-base-py"
  },
  "language_info": {
   "codemirror_mode": {
    "name": "ipython",
    "version": 3
   },
   "file_extension": ".py",
   "mimetype": "text/x-python",
   "name": "python",
   "nbconvert_exporter": "python",
   "pygments_lexer": "ipython3",
   "version": "3.12.7"
  }
 },
 "nbformat": 4,
 "nbformat_minor": 5
}
